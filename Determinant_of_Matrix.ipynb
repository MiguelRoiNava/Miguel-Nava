{
  "nbformat": 4,
  "nbformat_minor": 0,
  "metadata": {
    "colab": {
      "name": "Determinant of Matrix",
      "provenance": [],
      "authorship_tag": "ABX9TyMNf+SkD62lB57hPKGauKwJ",
      "include_colab_link": true
    },
    "kernelspec": {
      "name": "python3",
      "display_name": "Python 3"
    },
    "language_info": {
      "name": "python"
    }
  },
  "cells": [
    {
      "cell_type": "markdown",
      "metadata": {
        "id": "view-in-github",
        "colab_type": "text"
      },
      "source": [
        "<a href=\"https://colab.research.google.com/github/MiguelRoiNava/Miguel-Nava/blob/main/Determinant_of_Matrix.ipynb\" target=\"_parent\"><img src=\"https://colab.research.google.com/assets/colab-badge.svg\" alt=\"Open In Colab\"/></a>"
      ]
    },
    {
      "cell_type": "code",
      "metadata": {
        "colab": {
          "base_uri": "https://localhost:8080/"
        },
        "id": "x8HRepGUh9wJ",
        "outputId": "945e2e23-0d0a-42a9-f3b7-343dc9e3ce48"
      },
      "source": [
        "import numpy as np\n",
        "A = np.array([[1,2,-1],[4,6,-2],[-1,3,3]])\n",
        "print(A)\n",
        "print(np.linalg.det(A))\n",
        "print(round(np.linalg.det(A)))"
      ],
      "execution_count": 1,
      "outputs": [
        {
          "output_type": "stream",
          "name": "stdout",
          "text": [
            "[[ 1  2 -1]\n",
            " [ 4  6 -2]\n",
            " [-1  3  3]]\n",
            "-13.999999999999996\n",
            "-14\n"
          ]
        }
      ]
    }
  ]
}