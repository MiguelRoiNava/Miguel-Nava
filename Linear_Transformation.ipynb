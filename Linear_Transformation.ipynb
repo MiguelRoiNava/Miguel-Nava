{
  "nbformat": 4,
  "nbformat_minor": 0,
  "metadata": {
    "colab": {
      "name": "Linear_Transformation",
      "provenance": [],
      "authorship_tag": "ABX9TyPWmP9L25vnUbCDcmKCOB/T",
      "include_colab_link": true
    },
    "kernelspec": {
      "name": "python3",
      "display_name": "Python 3"
    },
    "language_info": {
      "name": "python"
    }
  },
  "cells": [
    {
      "cell_type": "markdown",
      "metadata": {
        "id": "view-in-github",
        "colab_type": "text"
      },
      "source": [
        "<a href=\"https://colab.research.google.com/github/MiguelRoiNava/Miguel-Nava/blob/main/Linear_Transformation.ipynb\" target=\"_parent\"><img src=\"https://colab.research.google.com/assets/colab-badge.svg\" alt=\"Open In Colab\"/></a>"
      ]
    },
    {
      "cell_type": "code",
      "metadata": {
        "colab": {
          "base_uri": "https://localhost:8080/"
        },
        "id": "lqTk6cACj4IY",
        "outputId": "6d8a415b-d4b8-41e1-f266-6c8e99c091e0"
      },
      "source": [
        "import numpy as np\n",
        "A = np.array([[4,10,8],[10,26,26],[8,26,26]])\n",
        "print(A)\n",
        "inv_A=np.linalg.inv(A)\n",
        "print(inv_A)\n",
        "B = np.array([[44],[128],[214]])\n",
        "print(B )\n",
        "X = np.dot(inv_A,B)\n",
        "print(X)"
      ],
      "execution_count": 1,
      "outputs": [
        {
          "output_type": "stream",
          "name": "stdout",
          "text": [
            "[[ 4 10  8]\n",
            " [10 26 26]\n",
            " [ 8 26 26]]\n",
            "[[ 0.          0.5        -0.5       ]\n",
            " [ 0.5        -0.38461538  0.23076923]\n",
            " [-0.5         0.23076923 -0.03846154]]\n",
            "[[ 44]\n",
            " [128]\n",
            " [214]]\n",
            "[[-43.        ]\n",
            " [ 22.15384615]\n",
            " [ -0.69230769]]\n"
          ]
        }
      ]
    }
  ]
}