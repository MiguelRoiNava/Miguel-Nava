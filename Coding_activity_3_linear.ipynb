{
  "nbformat": 4,
  "nbformat_minor": 0,
  "metadata": {
    "colab": {
      "name": "Coding activity 3 linear",
      "provenance": [],
      "authorship_tag": "ABX9TyOoUSWrxtmkyt7Nn91B84mk",
      "include_colab_link": true
    },
    "kernelspec": {
      "name": "python3",
      "display_name": "Python 3"
    },
    "language_info": {
      "name": "python"
    }
  },
  "cells": [
    {
      "cell_type": "markdown",
      "metadata": {
        "id": "view-in-github",
        "colab_type": "text"
      },
      "source": [
        "<a href=\"https://colab.research.google.com/github/MiguelRoiNava/Miguel-Nava/blob/main/Coding_activity_3_linear.ipynb\" target=\"_parent\"><img src=\"https://colab.research.google.com/assets/colab-badge.svg\" alt=\"Open In Colab\"/></a>"
      ]
    },
    {
      "cell_type": "markdown",
      "metadata": {
        "id": "g31Z1h26qAEZ"
      },
      "source": [
        "3x3 inverse"
      ]
    },
    {
      "cell_type": "code",
      "metadata": {
        "colab": {
          "base_uri": "https://localhost:8080/"
        },
        "id": "g7g4XLgQogFd",
        "outputId": "168e715d-1dc4-4b83-b94c-712f885323e4"
      },
      "source": [
        "#Matrix A = ([[7,2,2],[6,-3,6],[3,9,6]])\n",
        "import numpy as np\n",
        "A = np.array([[7,2,2],[6,-3,6],[3,9,6]])\n",
        "print(A)\n",
        "B = np.linalg.inv(A)\n",
        "print(B)"
      ],
      "execution_count": 3,
      "outputs": [
        {
          "output_type": "stream",
          "name": "stdout",
          "text": [
            "[[ 7  2  2]\n",
            " [ 6 -3  6]\n",
            " [ 3  9  6]]\n",
            "[[ 0.17391304 -0.01449275 -0.04347826]\n",
            " [ 0.04347826 -0.08695652  0.07246377]\n",
            " [-0.15217391  0.13768116  0.07971014]]\n"
          ]
        }
      ]
    },
    {
      "cell_type": "markdown",
      "metadata": {
        "id": "TErDHnA-qFgY"
      },
      "source": [
        "3x3 transpose"
      ]
    },
    {
      "cell_type": "code",
      "metadata": {
        "colab": {
          "base_uri": "https://localhost:8080/"
        },
        "id": "uck3NcF3pqEW",
        "outputId": "4783e266-fda0-4d95-8bdc-dc0f5974a19f"
      },
      "source": [
        "A = np.array([[7,2,2],[6,-3,6],[3,9,6]])\n",
        "print(A)\n",
        "B = np.transpose(A)\n",
        "print(B)"
      ],
      "execution_count": 6,
      "outputs": [
        {
          "output_type": "stream",
          "name": "stdout",
          "text": [
            "[[ 7  2  2]\n",
            " [ 6 -3  6]\n",
            " [ 3  9  6]]\n",
            "[[ 7  6  3]\n",
            " [ 2 -3  9]\n",
            " [ 2  6  6]]\n"
          ]
        }
      ]
    },
    {
      "cell_type": "markdown",
      "metadata": {
        "id": "m9OYHtaLqulF"
      },
      "source": [
        "4x4 inverse"
      ]
    },
    {
      "cell_type": "code",
      "metadata": {
        "colab": {
          "base_uri": "https://localhost:8080/"
        },
        "id": "fXlCEC5zqIYN",
        "outputId": "8d1beee2-52e3-4b09-9a4d-f18289c20a8f"
      },
      "source": [
        "#Matrix A = ([[7,2,2,4],[6,-3,6,-3],[3,9,6,6],[-1,9,5,2]])\n",
        "import numpy as np\n",
        "A = np.array([[7,2,2,4],[6,-3,6,-3],[3,9,6,6],[-1,9,5,2]])\n",
        "print(A)\n",
        "B = np.linalg.inv(A)\n",
        "print(B)"
      ],
      "execution_count": 5,
      "outputs": [
        {
          "output_type": "stream",
          "name": "stdout",
          "text": [
            "[[ 7  2  2  4]\n",
            " [ 6 -3  6 -3]\n",
            " [ 3  9  6  6]\n",
            " [-1  9  5  2]]\n",
            "[[ 2.72727273e-01  1.98254112e-17 -2.42424242e-01  1.81818182e-01]\n",
            " [ 2.23140496e-01 -6.06060606e-02 -2.89256198e-01  3.30578512e-01]\n",
            " [-2.64462810e-01  1.21212121e-01  3.05785124e-01 -2.06611570e-01]\n",
            " [-2.06611570e-01 -3.03030303e-02  4.15977961e-01 -3.80165289e-01]]\n"
          ]
        }
      ]
    },
    {
      "cell_type": "markdown",
      "metadata": {
        "id": "xr62YxwCqxlQ"
      },
      "source": [
        "4x4 transpose"
      ]
    },
    {
      "cell_type": "code",
      "metadata": {
        "colab": {
          "base_uri": "https://localhost:8080/"
        },
        "id": "RJ5Bp347qYo0",
        "outputId": "fb5c5073-1068-491a-93f6-00a321751bd5"
      },
      "source": [
        "A = np.array([[7,2,2,4],[6,-3,6,-3],[3,9,6,6],[-1,9,5,2]])\n",
        "print(A)\n",
        "B = np.transpose(A)\n",
        "print(B)"
      ],
      "execution_count": 7,
      "outputs": [
        {
          "output_type": "stream",
          "name": "stdout",
          "text": [
            "[[ 7  2  2  4]\n",
            " [ 6 -3  6 -3]\n",
            " [ 3  9  6  6]\n",
            " [-1  9  5  2]]\n",
            "[[ 7  6  3 -1]\n",
            " [ 2 -3  9  9]\n",
            " [ 2  6  6  5]\n",
            " [ 4 -3  6  2]]\n"
          ]
        }
      ]
    }
  ]
}